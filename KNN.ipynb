{
 "cells": [
  {
   "cell_type": "code",
   "execution_count": 6,
   "metadata": {},
   "outputs": [],
   "source": [
    "#step1: import the modules\n",
    "import numpy as np\n",
    "from sklearn.datasets import *\n",
    "from sklearn import tree"
   ]
  },
  {
   "cell_type": "code",
   "execution_count": 7,
   "metadata": {},
   "outputs": [],
   "source": [
    "#Step2: Load the data\n",
    "dataset = load_iris()\n",
    "idx=[0,50,100]\n",
    "\n",
    "#step3: visualize your data\n",
    "#print(dataset)\n",
    "\n",
    "#step4: creating the training datasets\n",
    "\n",
    "train_data= np.delete(dataset.data,idx, axis=0)  #always delete the features from the datasts and the final value for prediction\n",
    "train_target=np.delete(dataset.target,idx)"
   ]
  },
  {
   "cell_type": "code",
   "execution_count": 10,
   "metadata": {},
   "outputs": [],
   "source": [
    "test_data=dataset.data[idx]\n",
    "test_target=dataset.target[idx]\n",
    "\n",
    "#step6: creating the classifier\n",
    "Plant_classifier = tree.DecisionTreeClassifier()"
   ]
  },
  {
   "cell_type": "code",
   "execution_count": 13,
   "metadata": {},
   "outputs": [
    {
     "name": "stdout",
     "output_type": "stream",
     "text": [
      "[0 1 2]\n",
      "[0 1 2]\n"
     ]
    }
   ],
   "source": [
    "#step7:training the classifier\n",
    "Plant_classifier.fit(train_data, train_target)\n",
    "\n",
    "#step8:testing the classifier\n",
    "print(Plant_classifier.predict(test_data))\n",
    "print(test_target)"
   ]
  },
  {
   "cell_type": "code",
   "execution_count": null,
   "metadata": {},
   "outputs": [],
   "source": []
  }
 ],
 "metadata": {
  "kernelspec": {
   "display_name": "Python 3",
   "language": "python",
   "name": "python3"
  },
  "language_info": {
   "codemirror_mode": {
    "name": "ipython",
    "version": 3
   },
   "file_extension": ".py",
   "mimetype": "text/x-python",
   "name": "python",
   "nbconvert_exporter": "python",
   "pygments_lexer": "ipython3",
   "version": "3.6.5"
  }
 },
 "nbformat": 4,
 "nbformat_minor": 2
}
