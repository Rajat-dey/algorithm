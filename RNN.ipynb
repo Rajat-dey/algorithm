{
 "cells": [
  {
   "cell_type": "code",
   "execution_count": 1,
   "metadata": {},
   "outputs": [
    {
     "name": "stdout",
     "output_type": "stream",
     "text": [
      "{'HEllo', 'hello', 'HELlo'}\n"
     ]
    }
   ],
   "source": [
    "data=['HEllo','hello','HEllo','HELlo']\n",
    "\n",
    "new_data = set(data)\n",
    "print(new_data)"
   ]
  },
  {
   "cell_type": "code",
   "execution_count": 2,
   "metadata": {},
   "outputs": [
    {
     "name": "stdout",
     "output_type": "stream",
     "text": [
      "data has 86822 chars, 99 unique\n"
     ]
    }
   ],
   "source": [
    "data = open('rn.txt','r').read()\n",
    "\n",
    "chars = list(set(data))\n",
    "data_size, vocab_size = len(data), len(chars)\n",
    "print('data has %d chars, %d unique' %(data_size,vocab_size))"
   ]
  },
  {
   "cell_type": "code",
   "execution_count": 3,
   "metadata": {},
   "outputs": [
    {
     "name": "stdout",
     "output_type": "stream",
     "text": [
      "['Z', 'O', 'L', '–', '5', ';', 'P', 'B', 'w', 'a', '—', '\"', 'n', 'd', '8', '0', \"'\", '.', 'b', 'v', '(', '_', 'J', 'o', 'z', 'i', 'r', 'Q', '1', 'W', 'e', 'm', '\\n', '|', 'ç', 'T', 'E', 'R', '§', ' ', ')', 'X', '3', 'F', 'q', '6', 'u', '%', 's', 'C', '&', 'x', '$', 'f', 'k', 'æ', 'à', 'h', '/', '™', 'D', 'ä', 'G', 'K', ',', 'l', 'Y', '4', '[', 'p', 'H', 'ú', '2', '\\t', '’', 'y', 't', 'ö', 'õ', 'ã', '9', ':', 'g', 'A', 'j', 'M', 'U', 'c', 'á', 'N', '!', '?', 'é', '7', '-', ']', 'S', 'V', 'I']\n"
     ]
    }
   ],
   "source": [
    "print(chars) #all are uniques char respective to their capital and small letter included"
   ]
  },
  {
   "cell_type": "code",
   "execution_count": 5,
   "metadata": {},
   "outputs": [
    {
     "name": "stdout",
     "output_type": "stream",
     "text": [
      "Begining\n",
      "{'Z': 0, 'O': 1, 'L': 2, '–': 3, '5': 4, ';': 5, 'P': 6, 'B': 7, 'w': 8, 'a': 9, '—': 10, '\"': 11, 'n': 12, 'd': 13, '8': 14, '0': 15, \"'\": 16, '.': 17, 'b': 18, 'v': 19, '(': 20, '_': 21, 'J': 22, 'o': 23, 'z': 24, 'i': 25, 'r': 26, 'Q': 27, '1': 28, 'W': 29, 'e': 30, 'm': 31, '\\n': 32, '|': 33, 'ç': 34, 'T': 35, 'E': 36, 'R': 37, '§': 38, ' ': 39, ')': 40, 'X': 41, '3': 42, 'F': 43, 'q': 44, '6': 45, 'u': 46, '%': 47, 's': 48, 'C': 49, '&': 50, 'x': 51, '$': 52, 'f': 53, 'k': 54, 'æ': 55, 'à': 56, 'h': 57, '/': 58, '™': 59, 'D': 60, 'ä': 61, 'G': 62, 'K': 63, ',': 64, 'l': 65, 'Y': 66, '4': 67, '[': 68, 'p': 69, 'H': 70, 'ú': 71, '2': 72, '\\t': 73, '’': 74, 'y': 75, 't': 76, 'ö': 77, 'õ': 78, 'ã': 79, '9': 80, ':': 81, 'g': 82, 'A': 83, 'j': 84, 'M': 85, 'U': 86, 'c': 87, 'á': 88, 'N': 89, '!': 90, '?': 91, 'é': 92, '7': 93, '-': 94, ']': 95, 'S': 96, 'V': 97, 'I': 98}\n",
      "Interval Time\n",
      "{0: 'Z', 1: 'O', 2: 'L', 3: '–', 4: '5', 5: ';', 6: 'P', 7: 'B', 8: 'w', 9: 'a', 10: '—', 11: '\"', 12: 'n', 13: 'd', 14: '8', 15: '0', 16: \"'\", 17: '.', 18: 'b', 19: 'v', 20: '(', 21: '_', 22: 'J', 23: 'o', 24: 'z', 25: 'i', 26: 'r', 27: 'Q', 28: '1', 29: 'W', 30: 'e', 31: 'm', 32: '\\n', 33: '|', 34: 'ç', 35: 'T', 36: 'E', 37: 'R', 38: '§', 39: ' ', 40: ')', 41: 'X', 42: '3', 43: 'F', 44: 'q', 45: '6', 46: 'u', 47: '%', 48: 's', 49: 'C', 50: '&', 51: 'x', 52: '$', 53: 'f', 54: 'k', 55: 'æ', 56: 'à', 57: 'h', 58: '/', 59: '™', 60: 'D', 61: 'ä', 62: 'G', 63: 'K', 64: ',', 65: 'l', 66: 'Y', 67: '4', 68: '[', 69: 'p', 70: 'H', 71: 'ú', 72: '2', 73: '\\t', 74: '’', 75: 'y', 76: 't', 77: 'ö', 78: 'õ', 79: 'ã', 80: '9', 81: ':', 82: 'g', 83: 'A', 84: 'j', 85: 'M', 86: 'U', 87: 'c', 88: 'á', 89: 'N', 90: '!', 91: '?', 92: 'é', 93: '7', 94: '-', 95: ']', 96: 'S', 97: 'V', 98: 'I'}\n",
      "end\n"
     ]
    }
   ],
   "source": [
    "#neural networks always works on vectors\n",
    "#Simultananeously encoding and decoding goes on\n",
    "\n",
    "#enumerate?? returns character and the index value\n",
    "\n",
    "char_to_ix ={ch:i for i,ch in enumerate(chars)}  #ix = index\n",
    "ix_to_char = {i:ch for i,ch in enumerate(chars)}\n",
    "print('Begining')\n",
    "print(char_to_ix)\n",
    "print('Interval Time')\n",
    "print(ix_to_char)\n",
    "print('end')"
   ]
  },
  {
   "cell_type": "code",
   "execution_count": 10,
   "metadata": {},
   "outputs": [
    {
     "name": "stdout",
     "output_type": "stream",
     "text": [
      "[0. 0. 0. 0. 0. 0. 0. 0. 0. 1. 0. 0. 0. 0. 0. 0. 0. 0. 0. 0. 0. 0. 0. 0.\n",
      " 0. 0. 0. 0. 0. 0. 0. 0. 0. 0. 0. 0. 0. 0. 0. 0. 0. 0. 0. 0. 0. 0. 0. 0.\n",
      " 0. 0. 0. 0. 0. 0. 0. 0. 0. 0. 0. 0. 0. 0. 0. 0. 0. 0. 0. 0. 0. 0. 0. 0.\n",
      " 0. 0. 0. 0. 0. 0. 0. 0. 0. 0. 0. 0. 0. 0. 0. 0. 0. 0. 0. 0. 0. 0. 0. 0.\n",
      " 0. 0. 0.]\n",
      "(99, 1)\n"
     ]
    }
   ],
   "source": [
    "import numpy as np\n",
    "vector_for_char_a =np.zeros((vocab_size, 1))\n",
    "vector_for_char_a[char_to_ix['a']]=1   #one-hot encoding is applied\n",
    "print(vector_for_char_a.ravel())   #ravels returns flat array\n",
    "print(vector_for_char_a.shape)\n"
   ]
  },
  {
   "cell_type": "code",
   "execution_count": 12,
   "metadata": {},
   "outputs": [],
   "source": [
    "#model parameter\n",
    "hidden_size = 100\n",
    "\n",
    "seq_length= 25\n",
    "learning_rate=1e-1\n",
    "\n",
    "Wxh = np.random.randn(hidden_size,vocab_size)* 0.01\n",
    "Whh = np.random.randn(hidden_size,hidden_size)* 0.01\n",
    "Why = np.random.randn(vocab_size,hidden_size)* 0.01\n",
    "bh= np.zeros((hidden_size,1))\n",
    "by = np.zeros((vocab_size,1))\n"
   ]
  },
  {
   "cell_type": "code",
   "execution_count": 14,
   "metadata": {},
   "outputs": [
    {
     "name": "stdout",
     "output_type": "stream",
     "text": [
      "[[ 1.53046509e-02 -1.13969254e-02  9.18156910e-03 ... -1.00954249e-03\n",
      "   1.09735168e-02 -5.95035595e-03]\n",
      " [ 2.37866810e-03  4.59773405e-03  1.38929834e-03 ...  5.37694316e-03\n",
      "  -1.67249629e-03  1.51576772e-02]\n",
      " [-2.06735365e-02  5.32573640e-03  1.23615108e-02 ...  9.55375769e-03\n",
      "   3.33633768e-03 -7.43290774e-03]\n",
      " ...\n",
      " [ 6.44940564e-04  9.74857438e-03  4.92102016e-03 ... -1.20768815e-02\n",
      "   7.12991621e-03 -4.07435992e-03]\n",
      " [-6.02786448e-03  8.84551128e-03 -8.54015688e-03 ...  8.72883228e-05\n",
      "  -1.99212567e-03  1.96812782e-03]\n",
      " [ 1.20947626e-02 -5.51938621e-03 -3.11641825e-04 ...  9.71620132e-03\n",
      "  -4.62593665e-03 -1.32918819e-02]]\n",
      "[[0.]\n",
      " [0.]\n",
      " [0.]\n",
      " [0.]\n",
      " [0.]\n",
      " [0.]\n",
      " [0.]\n",
      " [0.]\n",
      " [0.]\n",
      " [0.]\n",
      " [0.]\n",
      " [0.]\n",
      " [0.]\n",
      " [0.]\n",
      " [0.]\n",
      " [0.]\n",
      " [0.]\n",
      " [0.]\n",
      " [0.]\n",
      " [0.]\n",
      " [0.]\n",
      " [0.]\n",
      " [0.]\n",
      " [0.]\n",
      " [0.]\n",
      " [0.]\n",
      " [0.]\n",
      " [0.]\n",
      " [0.]\n",
      " [0.]\n",
      " [0.]\n",
      " [0.]\n",
      " [0.]\n",
      " [0.]\n",
      " [0.]\n",
      " [0.]\n",
      " [0.]\n",
      " [0.]\n",
      " [0.]\n",
      " [0.]\n",
      " [0.]\n",
      " [0.]\n",
      " [0.]\n",
      " [0.]\n",
      " [0.]\n",
      " [0.]\n",
      " [0.]\n",
      " [0.]\n",
      " [0.]\n",
      " [0.]\n",
      " [0.]\n",
      " [0.]\n",
      " [0.]\n",
      " [0.]\n",
      " [0.]\n",
      " [0.]\n",
      " [0.]\n",
      " [0.]\n",
      " [0.]\n",
      " [0.]\n",
      " [0.]\n",
      " [0.]\n",
      " [0.]\n",
      " [0.]\n",
      " [0.]\n",
      " [0.]\n",
      " [0.]\n",
      " [0.]\n",
      " [0.]\n",
      " [0.]\n",
      " [0.]\n",
      " [0.]\n",
      " [0.]\n",
      " [0.]\n",
      " [0.]\n",
      " [0.]\n",
      " [0.]\n",
      " [0.]\n",
      " [0.]\n",
      " [0.]\n",
      " [0.]\n",
      " [0.]\n",
      " [0.]\n",
      " [0.]\n",
      " [0.]\n",
      " [0.]\n",
      " [0.]\n",
      " [0.]\n",
      " [0.]\n",
      " [0.]\n",
      " [0.]\n",
      " [0.]\n",
      " [0.]\n",
      " [0.]\n",
      " [0.]\n",
      " [0.]\n",
      " [0.]\n",
      " [0.]\n",
      " [0.]\n",
      " [0.]]\n"
     ]
    }
   ],
   "source": [
    "print(Wxh)\n",
    "print(bh)"
   ]
  },
  {
   "cell_type": "markdown",
   "metadata": {},
   "source": [
    "Loss function"
   ]
  },
  {
   "cell_type": "code",
   "execution_count": 1,
   "metadata": {},
   "outputs": [],
   "source": [
    "#file is uploaded in slack\n",
    "#pca is used to change the dimension"
   ]
  },
  {
   "cell_type": "code",
   "execution_count": 2,
   "metadata": {},
   "outputs": [],
   "source": [
    "#THere are more codes for the implementation of RNN"
   ]
  },
  {
   "cell_type": "code",
   "execution_count": null,
   "metadata": {},
   "outputs": [],
   "source": []
  }
 ],
 "metadata": {
  "kernelspec": {
   "display_name": "Python 3",
   "language": "python",
   "name": "python3"
  },
  "language_info": {
   "codemirror_mode": {
    "name": "ipython",
    "version": 3
   },
   "file_extension": ".py",
   "mimetype": "text/x-python",
   "name": "python",
   "nbconvert_exporter": "python",
   "pygments_lexer": "ipython3",
   "version": "3.6.5"
  }
 },
 "nbformat": 4,
 "nbformat_minor": 2
}
